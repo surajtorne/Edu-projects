{
 "cells": [
  {
   "cell_type": "code",
   "execution_count": 45,
   "metadata": {
    "id": "yIiPMDa50wjZ"
   },
   "outputs": [],
   "source": [
    "import pandas as pd\n",
    "import numpy as np\n",
    "import matplotlib.pyplot as plt\n",
    "import seaborn as sns\n",
    "import warnings\n",
    "warnings.filterwarnings('ignore')"
   ]
  },
  {
   "cell_type": "code",
   "execution_count": 3,
   "metadata": {
    "colab": {
     "base_uri": "https://localhost:8080/",
     "height": 270
    },
    "id": "hoR21pL304HI",
    "outputId": "6ab28dcc-9143-43c4-b548-cfd3a335ee9e"
   },
   "outputs": [
    {
     "data": {
      "text/html": [
       "<div>\n",
       "<style scoped>\n",
       "    .dataframe tbody tr th:only-of-type {\n",
       "        vertical-align: middle;\n",
       "    }\n",
       "\n",
       "    .dataframe tbody tr th {\n",
       "        vertical-align: top;\n",
       "    }\n",
       "\n",
       "    .dataframe thead th {\n",
       "        text-align: right;\n",
       "    }\n",
       "</style>\n",
       "<table border=\"1\" class=\"dataframe\">\n",
       "  <thead>\n",
       "    <tr style=\"text-align: right;\">\n",
       "      <th></th>\n",
       "      <th>Gender</th>\n",
       "      <th>Married</th>\n",
       "      <th>Dependents</th>\n",
       "      <th>Education</th>\n",
       "      <th>Self_Employed</th>\n",
       "      <th>ApplicantIncome</th>\n",
       "      <th>CoapplicantIncome</th>\n",
       "      <th>LoanAmount</th>\n",
       "      <th>Loan_Term</th>\n",
       "      <th>Credit_History_Available</th>\n",
       "      <th>Housing</th>\n",
       "      <th>Locality</th>\n",
       "      <th>Fraud_Risk</th>\n",
       "    </tr>\n",
       "  </thead>\n",
       "  <tbody>\n",
       "    <tr>\n",
       "      <th>0</th>\n",
       "      <td>1</td>\n",
       "      <td>0</td>\n",
       "      <td>0</td>\n",
       "      <td>1</td>\n",
       "      <td>0</td>\n",
       "      <td>5849</td>\n",
       "      <td>0</td>\n",
       "      <td>146</td>\n",
       "      <td>360</td>\n",
       "      <td>1</td>\n",
       "      <td>1</td>\n",
       "      <td>1</td>\n",
       "      <td>0</td>\n",
       "    </tr>\n",
       "    <tr>\n",
       "      <th>1</th>\n",
       "      <td>1</td>\n",
       "      <td>1</td>\n",
       "      <td>1</td>\n",
       "      <td>1</td>\n",
       "      <td>1</td>\n",
       "      <td>4583</td>\n",
       "      <td>1508</td>\n",
       "      <td>128</td>\n",
       "      <td>360</td>\n",
       "      <td>1</td>\n",
       "      <td>1</td>\n",
       "      <td>3</td>\n",
       "      <td>1</td>\n",
       "    </tr>\n",
       "    <tr>\n",
       "      <th>2</th>\n",
       "      <td>1</td>\n",
       "      <td>1</td>\n",
       "      <td>0</td>\n",
       "      <td>1</td>\n",
       "      <td>1</td>\n",
       "      <td>3000</td>\n",
       "      <td>0</td>\n",
       "      <td>66</td>\n",
       "      <td>360</td>\n",
       "      <td>1</td>\n",
       "      <td>1</td>\n",
       "      <td>1</td>\n",
       "      <td>1</td>\n",
       "    </tr>\n",
       "    <tr>\n",
       "      <th>3</th>\n",
       "      <td>1</td>\n",
       "      <td>1</td>\n",
       "      <td>0</td>\n",
       "      <td>0</td>\n",
       "      <td>1</td>\n",
       "      <td>2583</td>\n",
       "      <td>2358</td>\n",
       "      <td>120</td>\n",
       "      <td>360</td>\n",
       "      <td>1</td>\n",
       "      <td>1</td>\n",
       "      <td>1</td>\n",
       "      <td>1</td>\n",
       "    </tr>\n",
       "    <tr>\n",
       "      <th>4</th>\n",
       "      <td>1</td>\n",
       "      <td>0</td>\n",
       "      <td>0</td>\n",
       "      <td>1</td>\n",
       "      <td>0</td>\n",
       "      <td>6000</td>\n",
       "      <td>0</td>\n",
       "      <td>141</td>\n",
       "      <td>360</td>\n",
       "      <td>1</td>\n",
       "      <td>1</td>\n",
       "      <td>1</td>\n",
       "      <td>0</td>\n",
       "    </tr>\n",
       "  </tbody>\n",
       "</table>\n",
       "</div>"
      ],
      "text/plain": [
       "   Gender  Married  Dependents  Education  Self_Employed  ApplicantIncome  \\\n",
       "0       1        0           0          1              0             5849   \n",
       "1       1        1           1          1              1             4583   \n",
       "2       1        1           0          1              1             3000   \n",
       "3       1        1           0          0              1             2583   \n",
       "4       1        0           0          1              0             6000   \n",
       "\n",
       "   CoapplicantIncome  LoanAmount  Loan_Term  Credit_History_Available  \\\n",
       "0                  0         146        360                         1   \n",
       "1               1508         128        360                         1   \n",
       "2                  0          66        360                         1   \n",
       "3               2358         120        360                         1   \n",
       "4                  0         141        360                         1   \n",
       "\n",
       "   Housing  Locality  Fraud_Risk  \n",
       "0        1         1           0  \n",
       "1        1         3           1  \n",
       "2        1         1           1  \n",
       "3        1         1           1  \n",
       "4        1         1           0  "
      ]
     },
     "execution_count": 3,
     "metadata": {},
     "output_type": "execute_result"
    }
   ],
   "source": [
    "data= pd.read_csv(\"fraud_dataset.csv\")\n",
    "data.head()"
   ]
  },
  {
   "cell_type": "code",
   "execution_count": 102,
   "metadata": {
    "colab": {
     "base_uri": "https://localhost:8080/"
    },
    "id": "jBpx_Tr31GX9",
    "outputId": "23e9367f-f547-4a20-a71d-9015e63326cc"
   },
   "outputs": [
    {
     "name": "stdout",
     "output_type": "stream",
     "text": [
      "<class 'pandas.core.frame.DataFrame'>\n",
      "RangeIndex: 827 entries, 0 to 826\n",
      "Data columns (total 13 columns):\n",
      " #   Column                    Non-Null Count  Dtype\n",
      "---  ------                    --------------  -----\n",
      " 0   Gender                    827 non-null    int64\n",
      " 1   Married                   827 non-null    int64\n",
      " 2   Dependents                827 non-null    int64\n",
      " 3   Education                 827 non-null    int64\n",
      " 4   Self_Employed             827 non-null    int64\n",
      " 5   ApplicantIncome           827 non-null    int64\n",
      " 6   CoapplicantIncome         827 non-null    int64\n",
      " 7   LoanAmount                827 non-null    int64\n",
      " 8   Loan_Term                 827 non-null    int64\n",
      " 9   Credit_History_Available  827 non-null    int64\n",
      " 10  Housing                   827 non-null    int64\n",
      " 11  Locality                  827 non-null    int64\n",
      " 12  Fraud_Risk                827 non-null    int64\n",
      "dtypes: int64(13)\n",
      "memory usage: 84.1 KB\n"
     ]
    }
   ],
   "source": [
    "data.info()"
   ]
  },
  {
   "cell_type": "code",
   "execution_count": 4,
   "metadata": {
    "colab": {
     "base_uri": "https://localhost:8080/"
    },
    "id": "ZKBldqv21I1J",
    "outputId": "ed3cc054-56b5-4c21-e90f-d120f0c5b239"
   },
   "outputs": [
    {
     "data": {
      "text/plain": [
       "Gender                      0\n",
       "Married                     0\n",
       "Dependents                  0\n",
       "Education                   0\n",
       "Self_Employed               0\n",
       "ApplicantIncome             0\n",
       "CoapplicantIncome           0\n",
       "LoanAmount                  0\n",
       "Loan_Term                   0\n",
       "Credit_History_Available    0\n",
       "Housing                     0\n",
       "Locality                    0\n",
       "Fraud_Risk                  0\n",
       "dtype: int64"
      ]
     },
     "execution_count": 4,
     "metadata": {},
     "output_type": "execute_result"
    }
   ],
   "source": [
    "data.isna().sum()"
   ]
  },
  {
   "cell_type": "code",
   "execution_count": 9,
   "metadata": {
    "colab": {
     "base_uri": "https://localhost:8080/"
    },
    "id": "UEiluSR31POr",
    "outputId": "29c42754-f0da-4411-8e80-278912d3a368"
   },
   "outputs": [
    {
     "name": "stdout",
     "output_type": "stream",
     "text": [
      "Fraud Risk 57.68\n"
     ]
    }
   ],
   "source": [
    "fraud = len(data[data['Fraud_Risk'] == 1])\n",
    "non_fraud = len(data[data['Fraud_Risk'] == 0])\n",
    "pct_nf = round((non_fraud / (non_fraud + fraud)) * 100, 2)\n",
    "pct_f = round((fraud / (non_fraud + fraud)) * 100, 2)\n",
    "print(\"Fraud Risk\", pct_f)"
   ]
  },
  {
   "cell_type": "code",
   "execution_count": 24,
   "metadata": {
    "colab": {
     "base_uri": "https://localhost:8080/",
     "height": 284
    },
    "id": "w8dGyKXt1b0N",
    "outputId": "cd6b2d8b-a9cb-4d30-cd92-cd39956de0c0"
   },
   "outputs": [
    {
     "data": {
      "image/png": "[encoded data removed]",
      "text/plain": [
       "<Figure size 432x288 with 1 Axes>"
      ]
     },
     "metadata": {
      "needs_background": "light"
     },
     "output_type": "display_data"
    }
   ],
   "source": [
    "sns.countplot(x='Fraud_Risk',data=data)\n",
    "plt.show()"
   ]
  },
  {
   "cell_type": "code",
   "execution_count": 20,
   "metadata": {},
   "outputs": [
    {
     "data": {
      "image/png": "[encoded data removed]",
      "text/plain": [
       "<Figure size 432x288 with 1 Axes>"
      ]
     },
     "metadata": {},
     "output_type": "display_data"
    }
   ],
   "source": [
    "plt.pie(x=[pct_f, pct_nf], labels=[\"Fraud\", \"No Fraud\"], explode=[0.01, 0.01], autopct='%.2f')\n",
    "plt.show()"
   ]
  },
  {
   "cell_type": "markdown",
   "metadata": {},
   "source": [
    "Create correlation heatmap\n",
    "\n",
    "To visualise the correlations between all variables, not just the target variable, we can create a correlation matrix. This is essentially the same as the dataframe above, but with a row for each variable, and a neat colour coding scheme that allows you to see which values are most positively or negatively correlated based on the depth of their colour. Pale cells denote values with a negative correlation, while dark cells denote a stronger positive correlation."
   ]
  },
  {
   "cell_type": "code",
   "execution_count": 109,
   "metadata": {
    "colab": {
     "base_uri": "https://localhost:8080/"
    },
    "id": "7eGnNYKQ2BAI",
    "outputId": "a57c35db-bfe1-44aa-bfc3-6331a2f0a155"
   },
   "outputs": [
    {
     "data": {
      "text/plain": [
       "Gender                      0.309570\n",
       "Married                     0.825064\n",
       "Dependents                  0.315421\n",
       "Education                  -0.037406\n",
       "Self_Employed               0.688170\n",
       "ApplicantIncome             0.066347\n",
       "CoapplicantIncome           0.120304\n",
       "LoanAmount                  0.164087\n",
       "Loan_Term                  -0.097339\n",
       "Credit_History_Available   -0.239512\n",
       "Housing                    -0.082534\n",
       "Locality                   -0.030530\n",
       "Fraud_Risk                  1.000000\n",
       "Name: Fraud_Risk, dtype: float64"
      ]
     },
     "execution_count": 109,
     "metadata": {},
     "output_type": "execute_result"
    }
   ],
   "source": [
    "data.corr()['Fraud_Risk']"
   ]
  },
  {
   "cell_type": "code",
   "execution_count": 23,
   "metadata": {
    "colab": {
     "base_uri": "https://localhost:8080/",
     "height": 431
    },
    "id": "KoTCfw5417Zn",
    "outputId": "a25ef8c6-2b91-45c2-e10e-e8f21274423a"
   },
   "outputs": [
    {
     "data": {
      "text/plain": [
       "<AxesSubplot:>"
      ]
     },
     "execution_count": 23,
     "metadata": {},
     "output_type": "execute_result"
    },
    {
     "data": {
      "image/png": "[encoded data removed]",
      "text/plain": [
       "<Figure size 864x432 with 2 Axes>"
      ]
     },
     "metadata": {
      "needs_background": "light"
     },
     "output_type": "display_data"
    }
   ],
   "source": [
    "plt.figure(figsize=(12,6))\n",
    "sns.heatmap(data.corr(),annot=True, cmap=\"Blues\")"
   ]
  },
  {
   "cell_type": "code",
   "execution_count": 27,
   "metadata": {
    "id": "-eK4gpqs2Ks9"
   },
   "outputs": [],
   "source": [
    "x = data[data.columns[:-1]]\n",
    "y = data[data.columns[-1]]"
   ]
  },
  {
   "cell_type": "code",
   "execution_count": 28,
   "metadata": {
    "colab": {
     "base_uri": "https://localhost:8080/"
    },
    "id": "KEYYGYoO2aSU",
    "outputId": "ae89274e-529e-437f-cd9f-98bee9b09488"
   },
   "outputs": [
    {
     "name": "stdout",
     "output_type": "stream",
     "text": [
      "(827, 12)\n",
      "(827,)\n"
     ]
    }
   ],
   "source": [
    "print(x.shape)\n",
    "print(y.shape)"
   ]
  },
  {
   "cell_type": "code",
   "execution_count": 29,
   "metadata": {
    "id": "2at21e0Y2fIn"
   },
   "outputs": [],
   "source": [
    "#Splitting the data\n",
    "from sklearn.model_selection import train_test_split\n",
    "x_train,x_test,y_train,y_test=train_test_split(x,y,test_size=0.3)"
   ]
  },
  {
   "cell_type": "code",
   "execution_count": 30,
   "metadata": {
    "colab": {
     "base_uri": "https://localhost:8080/"
    },
    "id": "hu0-492j2slz",
    "outputId": "a3a79663-64f6-44b8-b59d-ac7c5d636c28"
   },
   "outputs": [
    {
     "data": {
      "text/plain": [
       "array([[ 0.61334369,  1.06066017,  0.3784831 , ...,  0.35903517,\n",
       "        -1.33875708, -1.26916342],\n",
       "       [-1.63040726,  1.06066017, -0.69916828, ...,  0.35903517,\n",
       "         0.7469615 ,  0.03150406],\n",
       "       [ 0.61334369,  1.06066017,  1.45613447, ...,  0.35903517,\n",
       "        -1.33875708, -1.26916342],\n",
       "       ...,\n",
       "       [-1.63040726,  1.06066017,  1.45613447, ...,  0.35903517,\n",
       "        -1.33875708,  0.03150406],\n",
       "       [-1.63040726, -0.94280904,  0.3784831 , ...,  0.35903517,\n",
       "         0.7469615 ,  1.33217153],\n",
       "       [-1.63040726, -0.94280904, -0.69916828, ...,  0.35903517,\n",
       "         0.7469615 ,  1.33217153]])"
      ]
     },
     "execution_count": 30,
     "metadata": {},
     "output_type": "execute_result"
    }
   ],
   "source": [
    "from sklearn.preprocessing import StandardScaler\n",
    "sc=StandardScaler()\n",
    "sc.fit_transform(x_train)"
   ]
  },
  {
   "cell_type": "code",
   "execution_count": 31,
   "metadata": {
    "colab": {
     "base_uri": "https://localhost:8080/"
    },
    "id": "NtssWZBX2wVx",
    "outputId": "4c8e7b82-b209-42a9-a808-f0eedcd3d3e0"
   },
   "outputs": [
    {
     "data": {
      "text/plain": [
       "SVC()"
      ]
     },
     "execution_count": 31,
     "metadata": {},
     "output_type": "execute_result"
    }
   ],
   "source": [
    "#applying svc\n",
    "from sklearn.svm import SVC\n",
    "model= SVC()\n",
    "model.fit(x_train,y_train)"
   ]
  },
  {
   "cell_type": "code",
   "execution_count": 32,
   "metadata": {
    "id": "tsfvvZAt28Ai"
   },
   "outputs": [],
   "source": [
    "train_predict_SVC= model.predict(x_train)\n",
    "test_predict_SVC=model.predict(x_test)"
   ]
  },
  {
   "cell_type": "code",
   "execution_count": 33,
   "metadata": {
    "colab": {
     "base_uri": "https://localhost:8080/"
    },
    "id": "FxQbDe3e3BHa",
    "outputId": "1a97c995-0841-4428-fe86-e4d60a151ae3"
   },
   "outputs": [
    {
     "name": "stdout",
     "output_type": "stream",
     "text": [
      "0.6608996539792388\n",
      "0.6385542168674698\n"
     ]
    }
   ],
   "source": [
    "Score_SVC_train=model.score(x_train,y_train)\n",
    "Score_SVC_test=model.score(x_test,y_test)\n",
    "print(Score_SVC_train)\n",
    "print(Score_SVC_test)"
   ]
  },
  {
   "cell_type": "code",
   "execution_count": 34,
   "metadata": {
    "colab": {
     "base_uri": "https://localhost:8080/"
    },
    "id": "D6--7Cts3GBa",
    "outputId": "1f766a9f-1fe6-4df6-9ebf-06c374b059a6"
   },
   "outputs": [
    {
     "data": {
      "text/plain": [
       "KNeighborsClassifier()"
      ]
     },
     "execution_count": 34,
     "metadata": {},
     "output_type": "execute_result"
    }
   ],
   "source": [
    "#knn\n",
    "from sklearn.neighbors import KNeighborsClassifier\n",
    "knn = KNeighborsClassifier()\n",
    "knn.fit(x_train, y_train)"
   ]
  },
  {
   "cell_type": "code",
   "execution_count": 35,
   "metadata": {
    "id": "KudhGAID3Mkw"
   },
   "outputs": [],
   "source": [
    "test_pred_knn=knn.predict(x_test)\n",
    "train_pred_knn=knn.predict(x_train)"
   ]
  },
  {
   "cell_type": "code",
   "execution_count": 36,
   "metadata": {
    "colab": {
     "base_uri": "https://localhost:8080/"
    },
    "id": "mW4dr6243Sfi",
    "outputId": "5a746fa8-d74d-4587-ff7c-0b0fb11092ec"
   },
   "outputs": [
    {
     "name": "stdout",
     "output_type": "stream",
     "text": [
      "0.7958477508650519\n",
      "0.6586345381526104\n"
     ]
    }
   ],
   "source": [
    "Score_KNN_train=knn.score(x_train,y_train)\n",
    "Score_KNN_test=knn.score(x_test,y_test)\n",
    "print(Score_KNN_train)\n",
    "print(Score_KNN_test)"
   ]
  },
  {
   "cell_type": "code",
   "execution_count": 37,
   "metadata": {
    "colab": {
     "base_uri": "https://localhost:8080/"
    },
    "id": "nxDCH1R53WId",
    "outputId": "b9a2cc34-b04b-4f82-9a2d-1037c31491b7"
   },
   "outputs": [
    {
     "data": {
      "text/plain": [
       "DecisionTreeClassifier()"
      ]
     },
     "execution_count": 37,
     "metadata": {},
     "output_type": "execute_result"
    }
   ],
   "source": [
    "##decision tree##\n",
    "\n",
    "from sklearn.tree import DecisionTreeClassifier\n",
    "clf=DecisionTreeClassifier()\n",
    "clf.fit(x_train,y_train)"
   ]
  },
  {
   "cell_type": "code",
   "execution_count": 38,
   "metadata": {
    "id": "69zwdC8i3gke"
   },
   "outputs": [],
   "source": [
    "train_DT_predict= clf.predict(x_train)\n",
    "test_DT_predict=clf.predict(x_test)"
   ]
  },
  {
   "cell_type": "code",
   "execution_count": 39,
   "metadata": {
    "colab": {
     "base_uri": "https://localhost:8080/"
    },
    "id": "x0gWs7ja3lN9",
    "outputId": "2303d414-abf8-46bb-c807-4c4a4165abe1"
   },
   "outputs": [
    {
     "name": "stdout",
     "output_type": "stream",
     "text": [
      "1.0\n",
      "0.9196787148594378\n"
     ]
    }
   ],
   "source": [
    "Score_DT_train=clf.score(x_train,y_train)\n",
    "Score_DT_test=clf.score(x_test,y_test)\n",
    "print(Score_DT_train)\n",
    "print(Score_DT_test)"
   ]
  },
  {
   "cell_type": "code",
   "execution_count": 40,
   "metadata": {
    "colab": {
     "base_uri": "https://localhost:8080/"
    },
    "id": "fMnsD8sF3qll",
    "outputId": "7cbf0ff4-6adf-4138-b2f0-8a1aec885941"
   },
   "outputs": [
    {
     "data": {
      "text/plain": [
       "RandomForestClassifier()"
      ]
     },
     "execution_count": 40,
     "metadata": {},
     "output_type": "execute_result"
    }
   ],
   "source": [
    "##randomforest\n",
    "from sklearn.ensemble import RandomForestClassifier\n",
    "rfc= RandomForestClassifier(n_estimators=100)\n",
    "rfc.fit(x_train,y_train)"
   ]
  },
  {
   "cell_type": "code",
   "execution_count": 41,
   "metadata": {
    "id": "vMDWGQeE3yH5"
   },
   "outputs": [],
   "source": [
    "train_predict_rfc= rfc.predict(x_train)\n",
    "test_predict_rfc=rfc.predict(x_test)"
   ]
  },
  {
   "cell_type": "code",
   "execution_count": 42,
   "metadata": {
    "colab": {
     "base_uri": "https://localhost:8080/"
    },
    "id": "8VJ3xp75328u",
    "outputId": "823f7efd-e20d-460b-d40c-24b9806f9001"
   },
   "outputs": [
    {
     "name": "stdout",
     "output_type": "stream",
     "text": [
      "1.0\n",
      "0.9518072289156626\n"
     ]
    }
   ],
   "source": [
    "Score_RFC_train=rfc.score(x_train,y_train)\n",
    "Score_RFC_test=rfc.score(x_test,y_test)\n",
    "print(Score_RFC_train)\n",
    "print(Score_RFC_test)"
   ]
  },
  {
   "cell_type": "code",
   "execution_count": 46,
   "metadata": {
    "colab": {
     "base_uri": "https://localhost:8080/"
    },
    "id": "xXFqDCj94CUR",
    "outputId": "81a7a309-ce44-4346-90d4-25c0ed007ad0"
   },
   "outputs": [
    {
     "data": {
      "text/plain": [
       "LogisticRegression()"
      ]
     },
     "execution_count": 46,
     "metadata": {},
     "output_type": "execute_result"
    }
   ],
   "source": [
    "# Logistic Regression algorithm\n",
    "from sklearn.linear_model import LogisticRegression\n",
    "lg = LogisticRegression()\n",
    "lg.fit(x_train,y_train)"
   ]
  },
  {
   "cell_type": "code",
   "execution_count": 47,
   "metadata": {
    "id": "9m-RUynA4Nqd"
   },
   "outputs": [],
   "source": [
    "y_train_pred = lg.predict(x_train)\n",
    "y_test_pred = lg.predict(x_test)"
   ]
  },
  {
   "cell_type": "code",
   "execution_count": 48,
   "metadata": {
    "colab": {
     "base_uri": "https://localhost:8080/"
    },
    "id": "FYVNVRQ24TAP",
    "outputId": "c9360f99-3362-4584-953b-ed4a6c07174f"
   },
   "outputs": [
    {
     "name": "stdout",
     "output_type": "stream",
     "text": [
      "0.8823529411764706\n",
      "0.8995983935742972\n"
     ]
    }
   ],
   "source": [
    "Score_LR_train=lg.score(x_train,y_train)\n",
    "Score_LR_test=lg.score(x_test,y_test)\n",
    "print(Score_LR_train)\n",
    "print(Score_LR_test)"
   ]
  },
  {
   "cell_type": "code",
   "execution_count": 49,
   "metadata": {
    "colab": {
     "base_uri": "https://localhost:8080/",
     "height": 206
    },
    "id": "BmaYvOFh4rtv",
    "outputId": "f61aad21-f694-4f21-b3a2-00cd77ec6f4f"
   },
   "outputs": [
    {
     "data": {
      "text/html": [
       "<div>\n",
       "<style scoped>\n",
       "    .dataframe tbody tr th:only-of-type {\n",
       "        vertical-align: middle;\n",
       "    }\n",
       "\n",
       "    .dataframe tbody tr th {\n",
       "        vertical-align: top;\n",
       "    }\n",
       "\n",
       "    .dataframe thead th {\n",
       "        text-align: right;\n",
       "    }\n",
       "</style>\n",
       "<table border=\"1\" class=\"dataframe\">\n",
       "  <thead>\n",
       "    <tr style=\"text-align: right;\">\n",
       "      <th></th>\n",
       "      <th>Model</th>\n",
       "      <th>Scores_test</th>\n",
       "      <th>Scores_train</th>\n",
       "    </tr>\n",
       "  </thead>\n",
       "  <tbody>\n",
       "    <tr>\n",
       "      <th>0</th>\n",
       "      <td>Logistic Regression</td>\n",
       "      <td>89.959839</td>\n",
       "      <td>88.235294</td>\n",
       "    </tr>\n",
       "    <tr>\n",
       "      <th>1</th>\n",
       "      <td>SVM</td>\n",
       "      <td>63.855422</td>\n",
       "      <td>66.089965</td>\n",
       "    </tr>\n",
       "    <tr>\n",
       "      <th>2</th>\n",
       "      <td>KNN</td>\n",
       "      <td>65.863454</td>\n",
       "      <td>79.584775</td>\n",
       "    </tr>\n",
       "    <tr>\n",
       "      <th>3</th>\n",
       "      <td>Decision Tree</td>\n",
       "      <td>91.967871</td>\n",
       "      <td>100.000000</td>\n",
       "    </tr>\n",
       "    <tr>\n",
       "      <th>4</th>\n",
       "      <td>Random Forest</td>\n",
       "      <td>95.180723</td>\n",
       "      <td>100.000000</td>\n",
       "    </tr>\n",
       "  </tbody>\n",
       "</table>\n",
       "</div>"
      ],
      "text/plain": [
       "                 Model  Scores_test  Scores_train\n",
       "0  Logistic Regression    89.959839     88.235294\n",
       "1                  SVM    63.855422     66.089965\n",
       "2                  KNN    65.863454     79.584775\n",
       "3        Decision Tree    91.967871    100.000000\n",
       "4        Random Forest    95.180723    100.000000"
      ]
     },
     "execution_count": 49,
     "metadata": {},
     "output_type": "execute_result"
    }
   ],
   "source": [
    "from pandas.core.frame import DataFrame\n",
    "Model_Comparison = DataFrame({\n",
    "    'Model' : ['Logistic Regression','SVM','KNN','Decision Tree','Random Forest'],\n",
    "    'Scores_test': [Score_LR_test*100,Score_SVC_test*100,Score_KNN_test*100,Score_DT_test*100,Score_RFC_test*100],\n",
    "    'Scores_train': [Score_LR_train*100,Score_SVC_train*100,Score_KNN_train*100,Score_DT_train*100,Score_RFC_train*100]\n",
    "    })\n",
    "Model_Comparison"
   ]
  },
  {
   "cell_type": "code",
   "execution_count": 50,
   "metadata": {
    "colab": {
     "base_uri": "https://localhost:8080/",
     "height": 206
    },
    "id": "cgyHSK7N4uif",
    "outputId": "c09753fe-3fc8-4f90-f61b-e19db97339a8"
   },
   "outputs": [
    {
     "data": {
      "text/html": [
       "<div>\n",
       "<style scoped>\n",
       "    .dataframe tbody tr th:only-of-type {\n",
       "        vertical-align: middle;\n",
       "    }\n",
       "\n",
       "    .dataframe tbody tr th {\n",
       "        vertical-align: top;\n",
       "    }\n",
       "\n",
       "    .dataframe thead th {\n",
       "        text-align: right;\n",
       "    }\n",
       "</style>\n",
       "<table border=\"1\" class=\"dataframe\">\n",
       "  <thead>\n",
       "    <tr style=\"text-align: right;\">\n",
       "      <th></th>\n",
       "      <th>Model</th>\n",
       "      <th>Scores_test</th>\n",
       "      <th>Scores_train</th>\n",
       "    </tr>\n",
       "  </thead>\n",
       "  <tbody>\n",
       "    <tr>\n",
       "      <th>0</th>\n",
       "      <td>Random Forest</td>\n",
       "      <td>95.180723</td>\n",
       "      <td>100.000000</td>\n",
       "    </tr>\n",
       "    <tr>\n",
       "      <th>1</th>\n",
       "      <td>Decision Tree</td>\n",
       "      <td>91.967871</td>\n",
       "      <td>100.000000</td>\n",
       "    </tr>\n",
       "    <tr>\n",
       "      <th>2</th>\n",
       "      <td>Logistic Regression</td>\n",
       "      <td>89.959839</td>\n",
       "      <td>88.235294</td>\n",
       "    </tr>\n",
       "    <tr>\n",
       "      <th>3</th>\n",
       "      <td>KNN</td>\n",
       "      <td>65.863454</td>\n",
       "      <td>79.584775</td>\n",
       "    </tr>\n",
       "    <tr>\n",
       "      <th>4</th>\n",
       "      <td>SVM</td>\n",
       "      <td>63.855422</td>\n",
       "      <td>66.089965</td>\n",
       "    </tr>\n",
       "  </tbody>\n",
       "</table>\n",
       "</div>"
      ],
      "text/plain": [
       "                 Model  Scores_test  Scores_train\n",
       "0        Random Forest    95.180723    100.000000\n",
       "1        Decision Tree    91.967871    100.000000\n",
       "2  Logistic Regression    89.959839     88.235294\n",
       "3                  KNN    65.863454     79.584775\n",
       "4                  SVM    63.855422     66.089965"
      ]
     },
     "execution_count": 50,
     "metadata": {},
     "output_type": "execute_result"
    }
   ],
   "source": [
    "Model_Comparison_df = Model_Comparison.sort_values(by= 'Scores_test', ascending=False)\n",
    "Model_Comparison_df.reset_index()[Model_Comparison_df.columns]"
   ]
  },
  {
   "cell_type": "code",
   "execution_count": 52,
   "metadata": {
    "id": "76-zCC3j4zkq"
   },
   "outputs": [],
   "source": [
    "##conclusion##\n",
    "#Based on above results we can say that Random Forest gives the best score. Hence we will use that.\n",
    "y_train_pred = rfc.predict(x_train)\n",
    "y_test_pred = rfc.predict(x_test)"
   ]
  },
  {
   "cell_type": "code",
   "execution_count": 53,
   "metadata": {
    "colab": {
     "base_uri": "https://localhost:8080/"
    },
    "id": "XigSMRjj5GMK",
    "outputId": "8343368f-481c-4a28-8bed-1eb3ba6d2d40"
   },
   "outputs": [
    {
     "name": "stdout",
     "output_type": "stream",
     "text": [
      "              precision    recall  f1-score   support\n",
      "\n",
      "           0       0.91      0.98      0.94       105\n",
      "           1       0.99      0.93      0.96       144\n",
      "\n",
      "    accuracy                           0.95       249\n",
      "   macro avg       0.95      0.96      0.95       249\n",
      "weighted avg       0.95      0.95      0.95       249\n",
      "\n"
     ]
    }
   ],
   "source": [
    "from sklearn.metrics import classification_report\n",
    "cr = classification_report(y_test,y_test_pred)\n",
    "print(cr)"
   ]
  },
  {
   "cell_type": "code",
   "execution_count": 54,
   "metadata": {
    "colab": {
     "base_uri": "https://localhost:8080/"
    },
    "id": "hTCGkddC5ING",
    "outputId": "2675356c-3c97-44fc-85a4-82a41576913d"
   },
   "outputs": [
    {
     "data": {
      "text/plain": [
       "array([[103,   2],\n",
       "       [ 10, 134]], dtype=int64)"
      ]
     },
     "execution_count": 54,
     "metadata": {},
     "output_type": "execute_result"
    }
   ],
   "source": [
    "from sklearn.metrics import confusion_matrix\n",
    "conf_matix = confusion_matrix(y_test,y_test_pred)\n",
    "conf_matix"
   ]
  }
 ],
 "metadata": {
  "colab": {
   "name": "fraud",
   "provenance": []
  },
  "kernelspec": {
   "display_name": "Python 3 (ipykernel)",
   "language": "python",
   "name": "python3"
  },
  "language_info": {
   "codemirror_mode": {
    "name": "ipython",
    "version": 3
   },
   "file_extension": ".py",
   "mimetype": "text/x-python",
   "name": "python",
   "nbconvert_exporter": "python",
   "pygments_lexer": "ipython3",
   "version": "3.9.7"
  }
 },
 "nbformat": 4,
 "nbformat_minor": 4
}
