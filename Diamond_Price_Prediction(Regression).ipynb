{
  "nbformat": 4,
  "nbformat_minor": 0,
  "metadata": {
    "colab": {
      "name": "Diamond Price Prediction(Regression).ipynb",
      "provenance": [],
      "collapsed_sections": []
    },
    "kernelspec": {
      "name": "python3",
      "display_name": "Python 3"
    },
    "language_info": {
      "name": "python"
    }
  },
  "cells": [
    {
      "cell_type": "code",
      "execution_count": 2,
      "metadata": {
        "id": "CtVwSR73WDSM"
      },
      "outputs": [],
      "source": [
        "import warnings\n",
        "warnings.filterwarnings('ignore')\n",
        "\n",
        "import numpy as np \n",
        "import pandas as pd \n",
        "import matplotlib.pyplot as plt\n",
        "import seaborn as sns\n",
        "\n",
        "from sklearn.preprocessing import LabelEncoder\n",
        "from sklearn.model_selection import train_test_split\n",
        "from sklearn.preprocessing import StandardScaler\n",
        "from sklearn.pipeline import Pipeline\n",
        "\n",
        "from sklearn.linear_model import LinearRegression\n",
        "from sklearn. linear_model import Lasso\n",
        "from sklearn.tree import DecisionTreeRegressor\n",
        "from sklearn.ensemble import RandomForestRegressor\n",
        "from sklearn.neighbors import KNeighborsRegressor\n",
        "from xgboost import XGBRegressor\n",
        "\n",
        "from sklearn.model_selection import cross_val_score\n",
        "from sklearn.metrics import mean_squared_error\n",
        "from sklearn import metrics "
      ]
    },
    {
      "cell_type": "code",
      "source": [
        "data_df = pd.read_csv(\"/Diamond Price Prediction.csv\")\n",
        "data_df.sample(10)"
      ],
      "metadata": {
        "colab": {
          "base_uri": "https://localhost:8080/",
          "height": 363
        },
        "id": "osCq2IqbWKKR",
        "outputId": "3f6ddcea-006a-451a-fbe8-f66a0848306e"
      },
      "execution_count": 3,
      "outputs": [
        {
          "output_type": "execute_result",
          "data": {
            "text/plain": [
              "       Unnamed: 0  carat        cut color clarity  depth  table  price     x  \\\n",
              "23192       23193   1.71      Ideal     F     SI2   62.1   54.0  11199  7.72   \n",
              "7798         7799   1.04       Good     E     SI2   62.3   62.0   4290  6.40   \n",
              "38144       38145   0.30    Premium     G    VVS1   62.7   59.0   1013  4.27   \n",
              "35734       35735   0.30      Ideal     D     VS2   62.3   56.0    911  4.32   \n",
              "21683       21684   1.60    Premium     I     VS2   60.2   58.0   9784  7.63   \n",
              "3465         3466   0.91    Premium     G     SI1   58.0   59.0   3392  6.45   \n",
              "29876       29877   0.30      Ideal     D     VS2   62.3   56.0    710  4.27   \n",
              "48371       48372   0.74      Ideal     J     SI1   61.7   56.0   1963  5.81   \n",
              "30521       30522   0.32      Ideal     G    VVS1   61.3   55.0    733  4.46   \n",
              "16498       16499   1.11  Very Good     G     VS2   60.8   58.0   6593  6.65   \n",
              "\n",
              "          y     z  \n",
              "23192  7.67  4.78  \n",
              "7798   6.44  4.00  \n",
              "38144  4.22  2.66  \n",
              "35734  4.29  2.68  \n",
              "21683  7.56  4.57  \n",
              "3465   6.38  3.72  \n",
              "29876  4.30  2.67  \n",
              "48371  5.85  3.60  \n",
              "30521  4.38  2.71  \n",
              "16498  6.70  4.06  "
            ],
            "text/html": [
              "\n",
              "  <div id=\"df-d3864148-10ae-4f59-bcf7-2ccb90387b08\">\n",
              "    <div class=\"colab-df-container\">\n",
              "      <div>\n",
              "<style scoped>\n",
              "    .dataframe tbody tr th:only-of-type {\n",
              "        vertical-align: middle;\n",
              "    }\n",
              "\n",
              "    .dataframe tbody tr th {\n",
              "        vertical-align: top;\n",
              "    }\n",
              "\n",
              "    .dataframe thead th {\n",
              "        text-align: right;\n",
              "    }\n",
              "</style>\n",
              "<table border=\"1\" class=\"dataframe\">\n",
              "  <thead>\n",
              "    <tr style=\"text-align: right;\">\n",
              "      <th></th>\n",
              "      <th>Unnamed: 0</th>\n",
              "      <th>carat</th>\n",
              "      <th>cut</th>\n",
              "      <th>color</th>\n",
              "      <th>clarity</th>\n",
              "      <th>depth</th>\n",
              "      <th>table</th>\n",
              "      <th>price</th>\n",
              "      <th>x</th>\n",
              "      <th>y</th>\n",
              "      <th>z</th>\n",
              "    </tr>\n",
              "  </thead>\n",
              "  <tbody>\n",
              "    <tr>\n",
              "      <th>23192</th>\n",
              "      <td>23193</td>\n",
              "      <td>1.71</td>\n",
              "      <td>Ideal</td>\n",
              "      <td>F</td>\n",
              "      <td>SI2</td>\n",
              "      <td>62.1</td>\n",
              "      <td>54.0</td>\n",
              "      <td>11199</td>\n",
              "      <td>7.72</td>\n",
              "      <td>7.67</td>\n",
              "      <td>4.78</td>\n",
              "    </tr>\n",
              "    <tr>\n",
              "      <th>7798</th>\n",
              "      <td>7799</td>\n",
              "      <td>1.04</td>\n",
              "      <td>Good</td>\n",
              "      <td>E</td>\n",
              "      <td>SI2</td>\n",
              "      <td>62.3</td>\n",
              "      <td>62.0</td>\n",
              "      <td>4290</td>\n",
              "      <td>6.40</td>\n",
              "      <td>6.44</td>\n",
              "      <td>4.00</td>\n",
              "    </tr>\n",
              "    <tr>\n",
              "      <th>38144</th>\n",
              "      <td>38145</td>\n",
              "      <td>0.30</td>\n",
              "      <td>Premium</td>\n",
              "      <td>G</td>\n",
              "      <td>VVS1</td>\n",
              "      <td>62.7</td>\n",
              "      <td>59.0</td>\n",
              "      <td>1013</td>\n",
              "      <td>4.27</td>\n",
              "      <td>4.22</td>\n",
              "      <td>2.66</td>\n",
              "    </tr>\n",
              "    <tr>\n",
              "      <th>35734</th>\n",
              "      <td>35735</td>\n",
              "      <td>0.30</td>\n",
              "      <td>Ideal</td>\n",
              "      <td>D</td>\n",
              "      <td>VS2</td>\n",
              "      <td>62.3</td>\n",
              "      <td>56.0</td>\n",
              "      <td>911</td>\n",
              "      <td>4.32</td>\n",
              "      <td>4.29</td>\n",
              "      <td>2.68</td>\n",
              "    </tr>\n",
              "    <tr>\n",
              "      <th>21683</th>\n",
              "      <td>21684</td>\n",
              "      <td>1.60</td>\n",
              "      <td>Premium</td>\n",
              "      <td>I</td>\n",
              "      <td>VS2</td>\n",
              "      <td>60.2</td>\n",
              "      <td>58.0</td>\n",
              "      <td>9784</td>\n",
              "      <td>7.63</td>\n",
              "      <td>7.56</td>\n",
              "      <td>4.57</td>\n",
              "    </tr>\n",
              "    <tr>\n",
              "      <th>3465</th>\n",
              "      <td>3466</td>\n",
              "      <td>0.91</td>\n",
              "      <td>Premium</td>\n",
              "      <td>G</td>\n",
              "      <td>SI1</td>\n",
              "      <td>58.0</td>\n",
              "      <td>59.0</td>\n",
              "      <td>3392</td>\n",
              "      <td>6.45</td>\n",
              "      <td>6.38</td>\n",
              "      <td>3.72</td>\n",
              "    </tr>\n",
              "    <tr>\n",
              "      <th>29876</th>\n",
              "      <td>29877</td>\n",
              "      <td>0.30</td>\n",
              "      <td>Ideal</td>\n",
              "      <td>D</td>\n",
              "      <td>VS2</td>\n",
              "      <td>62.3</td>\n",
              "      <td>56.0</td>\n",
              "      <td>710</td>\n",
              "      <td>4.27</td>\n",
              "      <td>4.30</td>\n",
              "      <td>2.67</td>\n",
              "    </tr>\n",
              "    <tr>\n",
              "      <th>48371</th>\n",
              "      <td>48372</td>\n",
              "      <td>0.74</td>\n",
              "      <td>Ideal</td>\n",
              "      <td>J</td>\n",
              "      <td>SI1</td>\n",
              "      <td>61.7</td>\n",
              "      <td>56.0</td>\n",
              "      <td>1963</td>\n",
              "      <td>5.81</td>\n",
              "      <td>5.85</td>\n",
              "      <td>3.60</td>\n",
              "    </tr>\n",
              "    <tr>\n",
              "      <th>30521</th>\n",
              "      <td>30522</td>\n",
              "      <td>0.32</td>\n",
              "      <td>Ideal</td>\n",
              "      <td>G</td>\n",
              "      <td>VVS1</td>\n",
              "      <td>61.3</td>\n",
              "      <td>55.0</td>\n",
              "      <td>733</td>\n",
              "      <td>4.46</td>\n",
              "      <td>4.38</td>\n",
              "      <td>2.71</td>\n",
              "    </tr>\n",
              "    <tr>\n",
              "      <th>16498</th>\n",
              "      <td>16499</td>\n",
              "      <td>1.11</td>\n",
              "      <td>Very Good</td>\n",
              "      <td>G</td>\n",
              "      <td>VS2</td>\n",
              "      <td>60.8</td>\n",
              "      <td>58.0</td>\n",
              "      <td>6593</td>\n",
              "      <td>6.65</td>\n",
              "      <td>6.70</td>\n",
              "      <td>4.06</td>\n",
              "    </tr>\n",
              "  </tbody>\n",
              "</table>\n",
              "</div>\n",
              "      <button class=\"colab-df-convert\" onclick=\"convertToInteractive('df-d3864148-10ae-4f59-bcf7-2ccb90387b08')\"\n",
              "              title=\"Convert this dataframe to an interactive table.\"\n",
              "              style=\"display:none;\">\n",
              "        \n",
              "  <svg xmlns=\"http://www.w3.org/2000/svg\" height=\"24px\"viewBox=\"0 0 24 24\"\n",
              "       width=\"24px\">\n",
              "    <path d=\"M0 0h24v24H0V0z\" fill=\"none\"/>\n",
              "    <path d=\"M18.56 5.44l.94 2.06.94-2.06 2.06-.94-2.06-.94-.94-2.06-.94 2.06-2.06.94zm-11 1L8.5 8.5l.94-2.06 2.06-.94-2.06-.94L8.5 2.5l-.94 2.06-2.06.94zm10 10l.94 2.06.94-2.06 2.06-.94-2.06-.94-.94-2.06-.94 2.06-2.06.94z\"/><path d=\"M17.41 7.96l-1.37-1.37c-.4-.4-.92-.59-1.43-.59-.52 0-1.04.2-1.43.59L10.3 9.45l-7.72 7.72c-.78.78-.78 2.05 0 2.83L4 21.41c.39.39.9.59 1.41.59.51 0 1.02-.2 1.41-.59l7.78-7.78 2.81-2.81c.8-.78.8-2.07 0-2.86zM5.41 20L4 18.59l7.72-7.72 1.47 1.35L5.41 20z\"/>\n",
              "  </svg>\n",
              "      </button>\n",
              "      \n",
              "  <style>\n",
              "    .colab-df-container {\n",
              "      display:flex;\n",
              "      flex-wrap:wrap;\n",
              "      gap: 12px;\n",
              "    }\n",
              "\n",
              "    .colab-df-convert {\n",
              "      background-color: #E8F0FE;\n",
              "      border: none;\n",
              "      border-radius: 50%;\n",
              "      cursor: pointer;\n",
              "      display: none;\n",
              "      fill: #1967D2;\n",
              "      height: 32px;\n",
              "      padding: 0 0 0 0;\n",
              "      width: 32px;\n",
              "    }\n",
              "\n",
              "    .colab-df-convert:hover {\n",
              "      background-color: #E2EBFA;\n",
              "      box-shadow: 0px 1px 2px rgba(60, 64, 67, 0.3), 0px 1px 3px 1px rgba(60, 64, 67, 0.15);\n",
              "      fill: #174EA6;\n",
              "    }\n",
              "\n",
              "    [theme=dark] .colab-df-convert {\n",
              "      background-color: #3B4455;\n",
              "      fill: #D2E3FC;\n",
              "    }\n",
              "\n",
              "    [theme=dark] .colab-df-convert:hover {\n",
              "      background-color: #434B5C;\n",
              "      box-shadow: 0px 1px 3px 1px rgba(0, 0, 0, 0.15);\n",
              "      filter: drop-shadow(0px 1px 2px rgba(0, 0, 0, 0.3));\n",
              "      fill: #FFFFFF;\n",
              "    }\n",
              "  </style>\n",
              "\n",
              "      <script>\n",
              "        const buttonEl =\n",
              "          document.querySelector('#df-d3864148-10ae-4f59-bcf7-2ccb90387b08 button.colab-df-convert');\n",
              "        buttonEl.style.display =\n",
              "          google.colab.kernel.accessAllowed ? 'block' : 'none';\n",
              "\n",
              "        async function convertToInteractive(key) {\n",
              "          const element = document.querySelector('#df-d3864148-10ae-4f59-bcf7-2ccb90387b08');\n",
              "          const dataTable =\n",
              "            await google.colab.kernel.invokeFunction('convertToInteractive',\n",
              "                                                     [key], {});\n",
              "          if (!dataTable) return;\n",
              "\n",
              "          const docLinkHtml = 'Like what you see? Visit the ' +\n",
              "            '<a target=\"_blank\" href=https://colab.research.google.com/notebooks/data_table.ipynb>data table notebook</a>'\n",
              "            + ' to learn more about interactive tables.';\n",
              "          element.innerHTML = '';\n",
              "          dataTable['output_type'] = 'display_data';\n",
              "          await google.colab.output.renderOutput(dataTable, element);\n",
              "          const docLink = document.createElement('div');\n",
              "          docLink.innerHTML = docLinkHtml;\n",
              "          element.appendChild(docLink);\n",
              "        }\n",
              "      </script>\n",
              "    </div>\n",
              "  </div>\n",
              "  "
            ]
          },
          "metadata": {},
          "execution_count": 3
        }
      ]
    },
    {
      "cell_type": "code",
      "source": [
        "# Checking for missing values and categorical variables in the dataset\n",
        "data_df.info()"
      ],
      "metadata": {
        "colab": {
          "base_uri": "https://localhost:8080/"
        },
        "id": "fLavqCGlWdGy",
        "outputId": "2f87aed9-2b37-4c5c-e7e8-d01149f218b6"
      },
      "execution_count": 4,
      "outputs": [
        {
          "output_type": "stream",
          "name": "stdout",
          "text": [
            "<class 'pandas.core.frame.DataFrame'>\n",
            "RangeIndex: 53940 entries, 0 to 53939\n",
            "Data columns (total 11 columns):\n",
            " #   Column      Non-Null Count  Dtype  \n",
            "---  ------      --------------  -----  \n",
            " 0   Unnamed: 0  53940 non-null  int64  \n",
            " 1   carat       53940 non-null  float64\n",
            " 2   cut         53940 non-null  object \n",
            " 3   color       53940 non-null  object \n",
            " 4   clarity     53940 non-null  object \n",
            " 5   depth       53940 non-null  float64\n",
            " 6   table       53940 non-null  float64\n",
            " 7   price       53940 non-null  int64  \n",
            " 8   x           53940 non-null  float64\n",
            " 9   y           53940 non-null  float64\n",
            " 10  z           53940 non-null  float64\n",
            "dtypes: float64(6), int64(2), object(3)\n",
            "memory usage: 4.5+ MB\n"
          ]
        }
      ]
    },
    {
      "cell_type": "code",
      "source": [
        "#Descriptive Statistics\n",
        "\n",
        "data_df.describe().T"
      ],
      "metadata": {
        "colab": {
          "base_uri": "https://localhost:8080/",
          "height": 269
        },
        "id": "QH7411YhWvPA",
        "outputId": "956ac4e2-95d0-409c-c1c7-b730d7564a66"
      },
      "execution_count": 43,
      "outputs": [
        {
          "output_type": "execute_result",
          "data": {
            "text/plain": [
              "         count         mean          std     min     25%      50%      75%  \\\n",
              "carat  53909.0     0.797617     0.473759    0.20    0.40     0.70     1.04   \n",
              "depth  53909.0    61.749743     1.420093   50.80   61.00    61.80    62.50   \n",
              "table  53909.0    57.455852     2.226169   43.00   56.00    57.00    59.00   \n",
              "price  53909.0  3930.513680  3987.145802  326.00  949.00  2400.00  5322.00   \n",
              "x      53909.0     5.731441     1.119369    3.73    4.71     5.70     6.54   \n",
              "y      53909.0     5.733764     1.116891    3.68    4.72     5.71     6.54   \n",
              "z      53909.0     3.539994     0.702085    2.06    2.91     3.53     4.04   \n",
              "\n",
              "            max  \n",
              "carat      5.01  \n",
              "depth     73.60  \n",
              "table     79.00  \n",
              "price  18823.00  \n",
              "x         10.74  \n",
              "y         31.80  \n",
              "z         31.80  "
            ],
            "text/html": [
              "\n",
              "  <div id=\"df-06452bff-b23a-488d-abc7-4581185cd63f\">\n",
              "    <div class=\"colab-df-container\">\n",
              "      <div>\n",
              "<style scoped>\n",
              "    .dataframe tbody tr th:only-of-type {\n",
              "        vertical-align: middle;\n",
              "    }\n",
              "\n",
              "    .dataframe tbody tr th {\n",
              "        vertical-align: top;\n",
              "    }\n",
              "\n",
              "    .dataframe thead th {\n",
              "        text-align: right;\n",
              "    }\n",
              "</style>\n",
              "<table border=\"1\" class=\"dataframe\">\n",
              "  <thead>\n",
              "    <tr style=\"text-align: right;\">\n",
              "      <th></th>\n",
              "      <th>count</th>\n",
              "      <th>mean</th>\n",
              "      <th>std</th>\n",
              "      <th>min</th>\n",
              "      <th>25%</th>\n",
              "      <th>50%</th>\n",
              "      <th>75%</th>\n",
              "      <th>max</th>\n",
              "    </tr>\n",
              "  </thead>\n",
              "  <tbody>\n",
              "    <tr>\n",
              "      <th>carat</th>\n",
              "      <td>53909.0</td>\n",
              "      <td>0.797617</td>\n",
              "      <td>0.473759</td>\n",
              "      <td>0.20</td>\n",
              "      <td>0.40</td>\n",
              "      <td>0.70</td>\n",
              "      <td>1.04</td>\n",
              "      <td>5.01</td>\n",
              "    </tr>\n",
              "    <tr>\n",
              "      <th>depth</th>\n",
              "      <td>53909.0</td>\n",
              "      <td>61.749743</td>\n",
              "      <td>1.420093</td>\n",
              "      <td>50.80</td>\n",
              "      <td>61.00</td>\n",
              "      <td>61.80</td>\n",
              "      <td>62.50</td>\n",
              "      <td>73.60</td>\n",
              "    </tr>\n",
              "    <tr>\n",
              "      <th>table</th>\n",
              "      <td>53909.0</td>\n",
              "      <td>57.455852</td>\n",
              "      <td>2.226169</td>\n",
              "      <td>43.00</td>\n",
              "      <td>56.00</td>\n",
              "      <td>57.00</td>\n",
              "      <td>59.00</td>\n",
              "      <td>79.00</td>\n",
              "    </tr>\n",
              "    <tr>\n",
              "      <th>price</th>\n",
              "      <td>53909.0</td>\n",
              "      <td>3930.513680</td>\n",
              "      <td>3987.145802</td>\n",
              "      <td>326.00</td>\n",
              "      <td>949.00</td>\n",
              "      <td>2400.00</td>\n",
              "      <td>5322.00</td>\n",
              "      <td>18823.00</td>\n",
              "    </tr>\n",
              "    <tr>\n",
              "      <th>x</th>\n",
              "      <td>53909.0</td>\n",
              "      <td>5.731441</td>\n",
              "      <td>1.119369</td>\n",
              "      <td>3.73</td>\n",
              "      <td>4.71</td>\n",
              "      <td>5.70</td>\n",
              "      <td>6.54</td>\n",
              "      <td>10.74</td>\n",
              "    </tr>\n",
              "    <tr>\n",
              "      <th>y</th>\n",
              "      <td>53909.0</td>\n",
              "      <td>5.733764</td>\n",
              "      <td>1.116891</td>\n",
              "      <td>3.68</td>\n",
              "      <td>4.72</td>\n",
              "      <td>5.71</td>\n",
              "      <td>6.54</td>\n",
              "      <td>31.80</td>\n",
              "    </tr>\n",
              "    <tr>\n",
              "      <th>z</th>\n",
              "      <td>53909.0</td>\n",
              "      <td>3.539994</td>\n",
              "      <td>0.702085</td>\n",
              "      <td>2.06</td>\n",
              "      <td>2.91</td>\n",
              "      <td>3.53</td>\n",
              "      <td>4.04</td>\n",
              "      <td>31.80</td>\n",
              "    </tr>\n",
              "  </tbody>\n",
              "</table>\n",
              "</div>\n",
              "      <button class=\"colab-df-convert\" onclick=\"convertToInteractive('df-06452bff-b23a-488d-abc7-4581185cd63f')\"\n",
              "              title=\"Convert this dataframe to an interactive table.\"\n",
              "              style=\"display:none;\">\n",
              "        \n",
              "  <svg xmlns=\"http://www.w3.org/2000/svg\" height=\"24px\"viewBox=\"0 0 24 24\"\n",
              "       width=\"24px\">\n",
              "    <path d=\"M0 0h24v24H0V0z\" fill=\"none\"/>\n",
              "    <path d=\"M18.56 5.44l.94 2.06.94-2.06 2.06-.94-2.06-.94-.94-2.06-.94 2.06-2.06.94zm-11 1L8.5 8.5l.94-2.06 2.06-.94-2.06-.94L8.5 2.5l-.94 2.06-2.06.94zm10 10l.94 2.06.94-2.06 2.06-.94-2.06-.94-.94-2.06-.94 2.06-2.06.94z\"/><path d=\"M17.41 7.96l-1.37-1.37c-.4-.4-.92-.59-1.43-.59-.52 0-1.04.2-1.43.59L10.3 9.45l-7.72 7.72c-.78.78-.78 2.05 0 2.83L4 21.41c.39.39.9.59 1.41.59.51 0 1.02-.2 1.41-.59l7.78-7.78 2.81-2.81c.8-.78.8-2.07 0-2.86zM5.41 20L4 18.59l7.72-7.72 1.47 1.35L5.41 20z\"/>\n",
              "  </svg>\n",
              "      </button>\n",
              "      \n",
              "  <style>\n",
              "    .colab-df-container {\n",
              "      display:flex;\n",
              "      flex-wrap:wrap;\n",
              "      gap: 12px;\n",
              "    }\n",
              "\n",
              "    .colab-df-convert {\n",
              "      background-color: #E8F0FE;\n",
              "      border: none;\n",
              "      border-radius: 50%;\n",
              "      cursor: pointer;\n",
              "      display: none;\n",
              "      fill: #1967D2;\n",
              "      height: 32px;\n",
              "      padding: 0 0 0 0;\n",
              "      width: 32px;\n",
              "    }\n",
              "\n",
              "    .colab-df-convert:hover {\n",
              "      background-color: #E2EBFA;\n",
              "      box-shadow: 0px 1px 2px rgba(60, 64, 67, 0.3), 0px 1px 3px 1px rgba(60, 64, 67, 0.15);\n",
              "      fill: #174EA6;\n",
              "    }\n",
              "\n",
              "    [theme=dark] .colab-df-convert {\n",
              "      background-color: #3B4455;\n",
              "      fill: #D2E3FC;\n",
              "    }\n",
              "\n",
              "    [theme=dark] .colab-df-convert:hover {\n",
              "      background-color: #434B5C;\n",
              "      box-shadow: 0px 1px 3px 1px rgba(0, 0, 0, 0.15);\n",
              "      filter: drop-shadow(0px 1px 2px rgba(0, 0, 0, 0.3));\n",
              "      fill: #FFFFFF;\n",
              "    }\n",
              "  </style>\n",
              "\n",
              "      <script>\n",
              "        const buttonEl =\n",
              "          document.querySelector('#df-06452bff-b23a-488d-abc7-4581185cd63f button.colab-df-convert');\n",
              "        buttonEl.style.display =\n",
              "          google.colab.kernel.accessAllowed ? 'block' : 'none';\n",
              "\n",
              "        async function convertToInteractive(key) {\n",
              "          const element = document.querySelector('#df-06452bff-b23a-488d-abc7-4581185cd63f');\n",
              "          const dataTable =\n",
              "            await google.colab.kernel.invokeFunction('convertToInteractive',\n",
              "                                                     [key], {});\n",
              "          if (!dataTable) return;\n",
              "\n",
              "          const docLinkHtml = 'Like what you see? Visit the ' +\n",
              "            '<a target=\"_blank\" href=https://colab.research.google.com/notebooks/data_table.ipynb>data table notebook</a>'\n",
              "            + ' to learn more about interactive tables.';\n",
              "          element.innerHTML = '';\n",
              "          dataTable['output_type'] = 'display_data';\n",
              "          await google.colab.output.renderOutput(dataTable, element);\n",
              "          const docLink = document.createElement('div');\n",
              "          docLink.innerHTML = docLinkHtml;\n",
              "          element.appendChild(docLink);\n",
              "        }\n",
              "      </script>\n",
              "    </div>\n",
              "  </div>\n",
              "  "
            ]
          },
          "metadata": {},
          "execution_count": 43
        }
      ]
    },
    {
      "cell_type": "code",
      "source": [
        "#Checking for Potential Outliers\n",
        "lm = sns.lmplot(x=\"price\", y=\"y\", data=data_df, scatter_kws={\"color\": \"#BC8F8F\"}, line_kws={\"color\": \"#8B4513\"})\n",
        "plt.title(\"Line Plot on Price vs 'y'\", color=\"#774571\", fontsize = 20)\n",
        "plt.show()"
      ],
      "metadata": {
        "colab": {
          "base_uri": "https://localhost:8080/",
          "height": 390
        },
        "id": "gh0y3MaQWzi9",
        "outputId": "257b1b4f-39cd-4385-c616-ce4eac225185"
      },
      "execution_count": 11,
      "outputs": [
        {
          "output_type": "display_data",
          "data": {
            "text/plain": [
              "<Figure size 360x360 with 1 Axes>"
            ],
            "image/png": "[encoded data removed]"
          },
          "metadata": {
            "needs_background": "light"
          }
        }
      ]
    },
    {
      "cell_type": "code",
      "source": [
        "lm = sns.lmplot(x=\"price\", y=\"z\", data=data_df, scatter_kws={\"color\": \"#BC8F8F\"}, line_kws={\"color\": \"#8B4513\"})\n",
        "plt.title(\"Line Plot on Price vs 'z'\", color=\"#774571\", fontsize = 20)\n",
        "plt.show()"
      ],
      "metadata": {
        "colab": {
          "base_uri": "https://localhost:8080/",
          "height": 390
        },
        "id": "bUrWVsIEXcZJ",
        "outputId": "32f03716-8f48-479f-aa8e-798eab687b73"
      },
      "execution_count": 12,
      "outputs": [
        {
          "output_type": "display_data",
          "data": {
            "text/plain": [
              "<Figure size 360x360 with 1 Axes>"
            ],
            "image/png": "[encoded data removed]"
          },
          "metadata": {
            "needs_background": "light"
          }
        }
      ]
    },
    {
      "cell_type": "code",
      "source": [
        "lm = sns.lmplot(x=\"price\", y=\"z\", data=data_df, scatter_kws={\"color\": \"#BC8F8F\"}, line_kws={\"color\": \"#8B4513\"})\n",
        "plt.title(\"Line Plot on Price vs 'z'\", color=\"#774571\", fontsize = 20)\n",
        "plt.show()"
      ],
      "metadata": {
        "colab": {
          "base_uri": "https://localhost:8080/",
          "height": 390
        },
        "id": "klAuZ22NXgSx",
        "outputId": "5381c2c0-902e-47ac-e332-c787b934cf78"
      },
      "execution_count": 16,
      "outputs": [
        {
          "output_type": "display_data",
          "data": {
            "text/plain": [
              "<Figure size 360x360 with 1 Axes>"
            ],
            "image/png": "[encoded data removed]"
          },
          "metadata": {
            "needs_background": "light"
          }
        }
      ]
    },
    {
      "cell_type": "code",
      "source": [
        "lm = sns.lmplot(x=\"price\", y=\"depth\", data=data_df, scatter_kws={\"color\": \"#BC8F8F\"}, line_kws={\"color\": \"#8B4513\"})\n",
        "plt.title(\"Line Plot on Price vs 'depth'\", color=\"#774571\", fontsize = 20)\n",
        "plt.show()"
      ],
      "metadata": {
        "colab": {
          "base_uri": "https://localhost:8080/",
          "height": 390
        },
        "id": "eNArEWKKXjzh",
        "outputId": "d2d6e465-1e2e-416d-9847-76008c69dbce"
      },
      "execution_count": 14,
      "outputs": [
        {
          "output_type": "display_data",
          "data": {
            "text/plain": [
              "<Figure size 360x360 with 1 Axes>"
            ],
            "image/png": "[encoded data removed]"
          },
          "metadata": {
            "needs_background": "light"
          }
        }
      ]
    },
    {
      "cell_type": "code",
      "source": [
        "lm = sns.lmplot(x=\"price\", y=\"table\", data=data_df, scatter_kws={\"color\": \"#BC8F8F\"}, line_kws={\"color\": \"#8B4513\"})\n",
        "plt.title(\"Line Plot on Price vs 'Table'\", color=\"#774571\", fontsize = 20)\n",
        "plt.show()"
      ],
      "metadata": {
        "colab": {
          "base_uri": "https://localhost:8080/",
          "height": 390
        },
        "id": "3o3OyncpXvfi",
        "outputId": "42d4ab21-e601-4118-c5a4-f30197d309de"
      },
      "execution_count": 17,
      "outputs": [
        {
          "output_type": "display_data",
          "data": {
            "text/plain": [
              "<Figure size 360x360 with 1 Axes>"
            ],
            "image/png": "[encoded data removed]"
          },
          "metadata": {
            "needs_background": "light"
          }
        }
      ]
    },
    {
      "cell_type": "markdown",
      "source": [
        "Data Cleaning"
      ],
      "metadata": {
        "id": "WHjQkVSOXyBC"
      }
    },
    {
      "cell_type": "code",
      "source": [
        "# Removing the feature \"Unnamed\"\n",
        "data_df = data_df.drop([\"Unnamed: 0\"], axis=1)\n",
        "data_df.shape"
      ],
      "metadata": {
        "colab": {
          "base_uri": "https://localhost:8080/"
        },
        "id": "vxm7hL0nXyng",
        "outputId": "60dc1ffd-3013-4fdf-aa43-4519442bcb35"
      },
      "execution_count": 18,
      "outputs": [
        {
          "output_type": "execute_result",
          "data": {
            "text/plain": [
              "(53940, 10)"
            ]
          },
          "metadata": {},
          "execution_count": 18
        }
      ]
    },
    {
      "cell_type": "code",
      "source": [
        "# Removing the datapoints having min 0 value in either x, y or z features \n",
        "data_df = data_df.drop(data_df[data_df[\"x\"]==0].index)\n",
        "data_df = data_df.drop(data_df[data_df[\"y\"]==0].index)\n",
        "data_df = data_df.drop(data_df[data_df[\"z\"]==0].index)\n",
        "data_df.shape"
      ],
      "metadata": {
        "colab": {
          "base_uri": "https://localhost:8080/"
        },
        "id": "lERKtzJ-X1n5",
        "outputId": "107a6d78-f8c4-4aab-922c-e60c57301244"
      },
      "execution_count": 19,
      "outputs": [
        {
          "output_type": "execute_result",
          "data": {
            "text/plain": [
              "(53920, 10)"
            ]
          },
          "metadata": {},
          "execution_count": 19
        }
      ]
    },
    {
      "cell_type": "markdown",
      "source": [
        "Removing Outliers"
      ],
      "metadata": {
        "id": "P1iC0uBGX4dJ"
      }
    },
    {
      "cell_type": "code",
      "source": [
        "# Dropping the outliers (since we have huge dataset) by defining appropriate measures across features \n",
        "data_df = data_df[(data_df[\"depth\"]<75)&(data_df[\"depth\"]>45)]\n",
        "data_df = data_df[(data_df[\"table\"]<80)&(data_df[\"table\"]>40)]\n",
        "data_df = data_df[(data_df[\"x\"]<40)]\n",
        "data_df = data_df[(data_df[\"y\"]<40)]\n",
        "data_df = data_df[(data_df[\"z\"]<40)&(data_df[\"z\"]>2)]\n",
        "data_df.shape"
      ],
      "metadata": {
        "colab": {
          "base_uri": "https://localhost:8080/"
        },
        "id": "Cq8t7myXX4v8",
        "outputId": "a80d2779-2d72-49e4-c5d0-f7ca13a0a2d3"
      },
      "execution_count": 24,
      "outputs": [
        {
          "output_type": "execute_result",
          "data": {
            "text/plain": [
              "(53909, 10)"
            ]
          },
          "metadata": {},
          "execution_count": 24
        }
      ]
    },
    {
      "cell_type": "markdown",
      "source": [
        "Encoding Categorical Variables"
      ],
      "metadata": {
        "id": "iH-8mmBEX85Z"
      }
    },
    {
      "cell_type": "code",
      "source": [
        "# Making a copy to keep original data in its form intact\n",
        "data1 = data_df.copy()\n",
        "\n",
        "# Applying label encoder to columns with categorical data\n",
        "columns = ['cut','color','clarity']\n",
        "label_encoder = LabelEncoder()\n",
        "for col in columns:\n",
        "    data1[col] = label_encoder.fit_transform(data1[col])\n",
        "data1.describe()"
      ],
      "metadata": {
        "colab": {
          "base_uri": "https://localhost:8080/",
          "height": 300
        },
        "id": "lWQvKdYyX-nB",
        "outputId": "d918ea8b-5ea2-414d-e6a6-6f95d89d9e33"
      },
      "execution_count": 23,
      "outputs": [
        {
          "output_type": "execute_result",
          "data": {
            "text/plain": [
              "              carat           cut         color       clarity         depth  \\\n",
              "count  53909.000000  53909.000000  53909.000000  53909.000000  53909.000000   \n",
              "mean       0.797617      2.553396      2.593964      3.835575     61.749743   \n",
              "std        0.473759      1.027444      1.701283      1.724540      1.420093   \n",
              "min        0.200000      0.000000      0.000000      0.000000     50.800000   \n",
              "25%        0.400000      2.000000      1.000000      2.000000     61.000000   \n",
              "50%        0.700000      2.000000      3.000000      4.000000     61.800000   \n",
              "75%        1.040000      3.000000      4.000000      5.000000     62.500000   \n",
              "max        5.010000      4.000000      6.000000      7.000000     73.600000   \n",
              "\n",
              "              table         price             x             y             z  \n",
              "count  53909.000000  53909.000000  53909.000000  53909.000000  53909.000000  \n",
              "mean      57.455852   3930.513680      5.731441      5.733764      3.539994  \n",
              "std        2.226169   3987.145802      1.119369      1.116891      0.702085  \n",
              "min       43.000000    326.000000      3.730000      3.680000      2.060000  \n",
              "25%       56.000000    949.000000      4.710000      4.720000      2.910000  \n",
              "50%       57.000000   2400.000000      5.700000      5.710000      3.530000  \n",
              "75%       59.000000   5322.000000      6.540000      6.540000      4.040000  \n",
              "max       79.000000  18823.000000     10.740000     31.800000     31.800000  "
            ],
            "text/html": [
              "\n",
              "  <div id=\"df-9aab7433-2311-4861-869f-88a3130e878d\">\n",
              "    <div class=\"colab-df-container\">\n",
              "      <div>\n",
              "<style scoped>\n",
              "    .dataframe tbody tr th:only-of-type {\n",
              "        vertical-align: middle;\n",
              "    }\n",
              "\n",
              "    .dataframe tbody tr th {\n",
              "        vertical-align: top;\n",
              "    }\n",
              "\n",
              "    .dataframe thead th {\n",
              "        text-align: right;\n",
              "    }\n",
              "</style>\n",
              "<table border=\"1\" class=\"dataframe\">\n",
              "  <thead>\n",
              "    <tr style=\"text-align: right;\">\n",
              "      <th></th>\n",
              "      <th>carat</th>\n",
              "      <th>cut</th>\n",
              "      <th>color</th>\n",
              "      <th>clarity</th>\n",
              "      <th>depth</th>\n",
              "      <th>table</th>\n",
              "      <th>price</th>\n",
              "      <th>x</th>\n",
              "      <th>y</th>\n",
              "      <th>z</th>\n",
              "    </tr>\n",
              "  </thead>\n",
              "  <tbody>\n",
              "    <tr>\n",
              "      <th>count</th>\n",
              "      <td>53909.000000</td>\n",
              "      <td>53909.000000</td>\n",
              "      <td>53909.000000</td>\n",
              "      <td>53909.000000</td>\n",
              "      <td>53909.000000</td>\n",
              "      <td>53909.000000</td>\n",
              "      <td>53909.000000</td>\n",
              "      <td>53909.000000</td>\n",
              "      <td>53909.000000</td>\n",
              "      <td>53909.000000</td>\n",
              "    </tr>\n",
              "    <tr>\n",
              "      <th>mean</th>\n",
              "      <td>0.797617</td>\n",
              "      <td>2.553396</td>\n",
              "      <td>2.593964</td>\n",
              "      <td>3.835575</td>\n",
              "      <td>61.749743</td>\n",
              "      <td>57.455852</td>\n",
              "      <td>3930.513680</td>\n",
              "      <td>5.731441</td>\n",
              "      <td>5.733764</td>\n",
              "      <td>3.539994</td>\n",
              "    </tr>\n",
              "    <tr>\n",
              "      <th>std</th>\n",
              "      <td>0.473759</td>\n",
              "      <td>1.027444</td>\n",
              "      <td>1.701283</td>\n",
              "      <td>1.724540</td>\n",
              "      <td>1.420093</td>\n",
              "      <td>2.226169</td>\n",
              "      <td>3987.145802</td>\n",
              "      <td>1.119369</td>\n",
              "      <td>1.116891</td>\n",
              "      <td>0.702085</td>\n",
              "    </tr>\n",
              "    <tr>\n",
              "      <th>min</th>\n",
              "      <td>0.200000</td>\n",
              "      <td>0.000000</td>\n",
              "      <td>0.000000</td>\n",
              "      <td>0.000000</td>\n",
              "      <td>50.800000</td>\n",
              "      <td>43.000000</td>\n",
              "      <td>326.000000</td>\n",
              "      <td>3.730000</td>\n",
              "      <td>3.680000</td>\n",
              "      <td>2.060000</td>\n",
              "    </tr>\n",
              "    <tr>\n",
              "      <th>25%</th>\n",
              "      <td>0.400000</td>\n",
              "      <td>2.000000</td>\n",
              "      <td>1.000000</td>\n",
              "      <td>2.000000</td>\n",
              "      <td>61.000000</td>\n",
              "      <td>56.000000</td>\n",
              "      <td>949.000000</td>\n",
              "      <td>4.710000</td>\n",
              "      <td>4.720000</td>\n",
              "      <td>2.910000</td>\n",
              "    </tr>\n",
              "    <tr>\n",
              "      <th>50%</th>\n",
              "      <td>0.700000</td>\n",
              "      <td>2.000000</td>\n",
              "      <td>3.000000</td>\n",
              "      <td>4.000000</td>\n",
              "      <td>61.800000</td>\n",
              "      <td>57.000000</td>\n",
              "      <td>2400.000000</td>\n",
              "      <td>5.700000</td>\n",
              "      <td>5.710000</td>\n",
              "      <td>3.530000</td>\n",
              "    </tr>\n",
              "    <tr>\n",
              "      <th>75%</th>\n",
              "      <td>1.040000</td>\n",
              "      <td>3.000000</td>\n",
              "      <td>4.000000</td>\n",
              "      <td>5.000000</td>\n",
              "      <td>62.500000</td>\n",
              "      <td>59.000000</td>\n",
              "      <td>5322.000000</td>\n",
              "      <td>6.540000</td>\n",
              "      <td>6.540000</td>\n",
              "      <td>4.040000</td>\n",
              "    </tr>\n",
              "    <tr>\n",
              "      <th>max</th>\n",
              "      <td>5.010000</td>\n",
              "      <td>4.000000</td>\n",
              "      <td>6.000000</td>\n",
              "      <td>7.000000</td>\n",
              "      <td>73.600000</td>\n",
              "      <td>79.000000</td>\n",
              "      <td>18823.000000</td>\n",
              "      <td>10.740000</td>\n",
              "      <td>31.800000</td>\n",
              "      <td>31.800000</td>\n",
              "    </tr>\n",
              "  </tbody>\n",
              "</table>\n",
              "</div>\n",
              "      <button class=\"colab-df-convert\" onclick=\"convertToInteractive('df-9aab7433-2311-4861-869f-88a3130e878d')\"\n",
              "              title=\"Convert this dataframe to an interactive table.\"\n",
              "              style=\"display:none;\">\n",
              "        \n",
              "  <svg xmlns=\"http://www.w3.org/2000/svg\" height=\"24px\"viewBox=\"0 0 24 24\"\n",
              "       width=\"24px\">\n",
              "    <path d=\"M0 0h24v24H0V0z\" fill=\"none\"/>\n",
              "    <path d=\"M18.56 5.44l.94 2.06.94-2.06 2.06-.94-2.06-.94-.94-2.06-.94 2.06-2.06.94zm-11 1L8.5 8.5l.94-2.06 2.06-.94-2.06-.94L8.5 2.5l-.94 2.06-2.06.94zm10 10l.94 2.06.94-2.06 2.06-.94-2.06-.94-.94-2.06-.94 2.06-2.06.94z\"/><path d=\"M17.41 7.96l-1.37-1.37c-.4-.4-.92-.59-1.43-.59-.52 0-1.04.2-1.43.59L10.3 9.45l-7.72 7.72c-.78.78-.78 2.05 0 2.83L4 21.41c.39.39.9.59 1.41.59.51 0 1.02-.2 1.41-.59l7.78-7.78 2.81-2.81c.8-.78.8-2.07 0-2.86zM5.41 20L4 18.59l7.72-7.72 1.47 1.35L5.41 20z\"/>\n",
              "  </svg>\n",
              "      </button>\n",
              "      \n",
              "  <style>\n",
              "    .colab-df-container {\n",
              "      display:flex;\n",
              "      flex-wrap:wrap;\n",
              "      gap: 12px;\n",
              "    }\n",
              "\n",
              "    .colab-df-convert {\n",
              "      background-color: #E8F0FE;\n",
              "      border: none;\n",
              "      border-radius: 50%;\n",
              "      cursor: pointer;\n",
              "      display: none;\n",
              "      fill: #1967D2;\n",
              "      height: 32px;\n",
              "      padding: 0 0 0 0;\n",
              "      width: 32px;\n",
              "    }\n",
              "\n",
              "    .colab-df-convert:hover {\n",
              "      background-color: #E2EBFA;\n",
              "      box-shadow: 0px 1px 2px rgba(60, 64, 67, 0.3), 0px 1px 3px 1px rgba(60, 64, 67, 0.15);\n",
              "      fill: #174EA6;\n",
              "    }\n",
              "\n",
              "    [theme=dark] .colab-df-convert {\n",
              "      background-color: #3B4455;\n",
              "      fill: #D2E3FC;\n",
              "    }\n",
              "\n",
              "    [theme=dark] .colab-df-convert:hover {\n",
              "      background-color: #434B5C;\n",
              "      box-shadow: 0px 1px 3px 1px rgba(0, 0, 0, 0.15);\n",
              "      filter: drop-shadow(0px 1px 2px rgba(0, 0, 0, 0.3));\n",
              "      fill: #FFFFFF;\n",
              "    }\n",
              "  </style>\n",
              "\n",
              "      <script>\n",
              "        const buttonEl =\n",
              "          document.querySelector('#df-9aab7433-2311-4861-869f-88a3130e878d button.colab-df-convert');\n",
              "        buttonEl.style.display =\n",
              "          google.colab.kernel.accessAllowed ? 'block' : 'none';\n",
              "\n",
              "        async function convertToInteractive(key) {\n",
              "          const element = document.querySelector('#df-9aab7433-2311-4861-869f-88a3130e878d');\n",
              "          const dataTable =\n",
              "            await google.colab.kernel.invokeFunction('convertToInteractive',\n",
              "                                                     [key], {});\n",
              "          if (!dataTable) return;\n",
              "\n",
              "          const docLinkHtml = 'Like what you see? Visit the ' +\n",
              "            '<a target=\"_blank\" href=https://colab.research.google.com/notebooks/data_table.ipynb>data table notebook</a>'\n",
              "            + ' to learn more about interactive tables.';\n",
              "          element.innerHTML = '';\n",
              "          dataTable['output_type'] = 'display_data';\n",
              "          await google.colab.output.renderOutput(dataTable, element);\n",
              "          const docLink = document.createElement('div');\n",
              "          docLink.innerHTML = docLinkHtml;\n",
              "          element.appendChild(docLink);\n",
              "        }\n",
              "      </script>\n",
              "    </div>\n",
              "  </div>\n",
              "  "
            ]
          },
          "metadata": {},
          "execution_count": 23
        }
      ]
    },
    {
      "cell_type": "code",
      "source": [
        "#Correlation Matrix\n",
        "# Examining correlation matrix using heatmap\n",
        "cmap = sns.diverging_palette(205, 133, 63, as_cmap=True)\n",
        "cols = ([\"#682F2F\", \"#9E726F\", \"#D6B2B1\", \"#B9C0C9\", \"#9F8A78\", \"#F3AB60\"])\n",
        "corrmat= data1.corr()\n",
        "f, ax = plt.subplots(figsize=(15,12))\n",
        "sns.heatmap(corrmat,cmap=cols,annot=True)"
      ],
      "metadata": {
        "colab": {
          "base_uri": "https://localhost:8080/",
          "height": 721
        },
        "id": "disYzPK0YAPp",
        "outputId": "1e809d6f-91e5-49a7-bd46-cd89c545cef8"
      },
      "execution_count": 25,
      "outputs": [
        {
          "output_type": "execute_result",
          "data": {
            "text/plain": [
              "<matplotlib.axes._subplots.AxesSubplot at 0x7ff6cf4b88d0>"
            ]
          },
          "metadata": {},
          "execution_count": 25
        },
        {
          "output_type": "display_data",
          "data": {
            "text/plain": [
              "<Figure size 1080x864 with 2 Axes>"
            ],
            "image/png": "[encoded data removed]"
          },
          "metadata": {
            "needs_background": "light"
          }
        }
      ]
    },
    {
      "cell_type": "markdown",
      "source": [
        "MODEL BUILDING"
      ],
      "metadata": {
        "id": "8ltIJcqTYVNZ"
      }
    },
    {
      "cell_type": "code",
      "source": [
        "# Defining the independent and dependent variables\n",
        "X= data1.drop([\"price\"],axis =1)\n",
        "y= data1[\"price\"]\n",
        "X_train, X_test, y_train, y_test = train_test_split(X, y,test_size=0.20, random_state=25)"
      ],
      "metadata": {
        "id": "IEUh-pIDYTmJ"
      },
      "execution_count": 26,
      "outputs": []
    },
    {
      "cell_type": "code",
      "source": [
        "# Building pipelins of standard scaler and model for varios regressors.\n",
        "\n",
        "pipeline_lr=Pipeline([(\"scalar1\",StandardScaler()),\n",
        "                     (\"lr\",LinearRegression())])\n",
        "\n",
        "pipeline_lasso=Pipeline([(\"scalar2\", StandardScaler()),\n",
        "                      (\"lasso\",Lasso())])\n",
        "\n",
        "pipeline_dt=Pipeline([(\"scalar3\",StandardScaler()),\n",
        "                     (\"dt\",DecisionTreeRegressor())])\n",
        "\n",
        "pipeline_rf=Pipeline([(\"scalar4\",StandardScaler()),\n",
        "                     (\"rf\",RandomForestRegressor())])\n",
        "\n",
        "\n",
        "pipeline_kn=Pipeline([(\"scalar5\",StandardScaler()),\n",
        "                     (\"kn\",KNeighborsRegressor())])\n",
        "\n",
        "\n",
        "pipeline_xgb=Pipeline([(\"scalar6\",StandardScaler()),\n",
        "                     (\"xgb\",XGBRegressor())])\n",
        "\n"
      ],
      "metadata": {
        "id": "xLCh0YbcYaIR"
      },
      "execution_count": 33,
      "outputs": []
    },
    {
      "cell_type": "code",
      "source": [
        "# List of all the pipelines\n",
        "pipelines = [pipeline_lr, pipeline_lasso, pipeline_dt, pipeline_rf, pipeline_kn, pipeline_xgb]\n",
        "\n"
      ],
      "metadata": {
        "id": "7CY0I_pDYuOq"
      },
      "execution_count": 35,
      "outputs": []
    },
    {
      "cell_type": "code",
      "source": [
        "pred = pipeline_xgb.predict(X_test)\n",
        "print(\"R^2:\",metrics.r2_score(y_test, pred))\n",
        "print(\"Adjusted R^2:\",1 - (1-metrics.r2_score(y_test, pred))*(len(y_test)-1)/(len(y_test)-X_test.shape[1]-1))"
      ],
      "metadata": {
        "colab": {
          "base_uri": "https://localhost:8080/"
        },
        "id": "9ivntSqUZqAR",
        "outputId": "24c487df-05cf-4b4b-dc1a-4b3cf6f0a481"
      },
      "execution_count": 42,
      "outputs": [
        {
          "output_type": "stream",
          "name": "stdout",
          "text": [
            "R^2: 0.9739477556394331\n",
            "Adjusted R^2: 0.973925989003781\n"
          ]
        }
      ]
    }
  ]
}